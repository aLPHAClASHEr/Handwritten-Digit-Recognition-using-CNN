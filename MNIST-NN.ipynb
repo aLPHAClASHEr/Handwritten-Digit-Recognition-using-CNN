{
 "cells": [
  {
   "cell_type": "markdown",
   "id": "132d972e",
   "metadata": {},
   "source": [
    "**Importing Dependencies**"
   ]
  },
  {
   "cell_type": "code",
   "execution_count": 14,
   "id": "075784f7",
   "metadata": {},
   "outputs": [],
   "source": [
    "import numpy as np\n",
    "import matplotlib.pyplot as plt\n",
    "%matplotlib inline\n",
    "import keras\n",
    "from keras.datasets import mnist\n",
    "from keras.layers import Dense, Flatten, Dropout\n",
    "from keras.layers import Conv2D, MaxPooling2D\n",
    "from tensorflow.keras.optimizers import SGD\n",
    "from keras.utils import np_utils "
   ]
  },
  {
   "cell_type": "code",
   "execution_count": null,
   "id": "0591f197",
   "metadata": {},
   "outputs": [],
   "source": []
  },
  {
   "cell_type": "code",
   "execution_count": 2,
   "id": "41f041ae",
   "metadata": {},
   "outputs": [],
   "source": [
    "# The Data, split between train and test Data"
   ]
  },
  {
   "cell_type": "code",
   "execution_count": 3,
   "id": "7007ab5c",
   "metadata": {
    "scrolled": true
   },
   "outputs": [
    {
     "name": "stdout",
     "output_type": "stream",
     "text": [
      "(60000, 28, 28) (28, 28)\n"
     ]
    }
   ],
   "source": [
    "(x_train, y_train), (x_test, y_test) = mnist.load_data()\n",
    "print(x_train.shape, x_train[0].shape )"
   ]
  },
  {
   "cell_type": "code",
   "execution_count": 4,
   "id": "68de1240",
   "metadata": {},
   "outputs": [
    {
     "data": {
      "text/plain": [
       "<matplotlib.image.AxesImage at 0x2362b1826d0>"
      ]
     },
     "execution_count": 4,
     "metadata": {},
     "output_type": "execute_result"
    },
    {
     "data": {
      "image/png": "[encoded data removed]",
      "text/plain": [
       "<Figure size 432x288 with 1 Axes>"
      ]
     },
     "metadata": {
      "needs_background": "light"
     },
     "output_type": "display_data"
    }
   ],
   "source": [
    "plt.imshow(x_train[5], cmap='gray')"
   ]
  },
  {
   "cell_type": "code",
   "execution_count": 5,
   "id": "eee81a6f",
   "metadata": {},
   "outputs": [
    {
     "data": {
      "text/plain": [
       "2"
      ]
     },
     "execution_count": 5,
     "metadata": {},
     "output_type": "execute_result"
    }
   ],
   "source": [
    "y_train[5]"
   ]
  },
  {
   "cell_type": "code",
   "execution_count": 6,
   "id": "0451eea5",
   "metadata": {},
   "outputs": [
    {
     "data": {
      "text/plain": [
       "array([5, 0, 4, ..., 5, 6, 8], dtype=uint8)"
      ]
     },
     "execution_count": 6,
     "metadata": {},
     "output_type": "execute_result"
    }
   ],
   "source": [
    "y_train"
   ]
  },
  {
   "cell_type": "code",
   "execution_count": 7,
   "id": "a2820287",
   "metadata": {},
   "outputs": [
    {
     "name": "stdout",
     "output_type": "stream",
     "text": [
      "(60000, 28, 28) 10000\n"
     ]
    }
   ],
   "source": [
    "print(x_train.shape, x_test.shape[0])"
   ]
  },
  {
   "cell_type": "markdown",
   "id": "486f75e3",
   "metadata": {},
   "source": [
    "**Preprocessing our Training and Testing Data**"
   ]
  },
  {
   "cell_type": "code",
   "execution_count": 8,
   "id": "b2e5164f",
   "metadata": {},
   "outputs": [],
   "source": [
    "x_train = x_train.reshape(-1,28,28,1)\n",
    "\n",
    "x_test  = x_test.reshape(-1,28,28,1)\n",
    "\n",
    "x_train = x_train.astype('float32')\n",
    "\n",
    "x_test  = x_test.astype('float32')\n",
    "\n"
   ]
  },
  {
   "cell_type": "code",
   "execution_count": 9,
   "id": "cd526a2d",
   "metadata": {},
   "outputs": [
    {
     "name": "stdout",
     "output_type": "stream",
     "text": [
      "60000 10000\n"
     ]
    }
   ],
   "source": [
    "x_train = x_train/255\n",
    "x_test = x_test/255\n",
    "print(x_train.shape[0], x_test.shape[0])"
   ]
  },
  {
   "cell_type": "code",
   "execution_count": 10,
   "id": "2909cc52",
   "metadata": {},
   "outputs": [],
   "source": [
    "y_train = np_utils.to_categorical(y_train)\n",
    "y_test = np_utils.to_categorical(y_test)"
   ]
  },
  {
   "cell_type": "code",
   "execution_count": 11,
   "id": "ac7d54df",
   "metadata": {},
   "outputs": [
    {
     "name": "stdout",
     "output_type": "stream",
     "text": [
      "[0. 0. 0. 0. 0. 1. 0. 0. 0. 0.]\n"
     ]
    }
   ],
   "source": [
    "print(y_train[0])"
   ]
  },
  {
   "cell_type": "code",
   "execution_count": null,
   "id": "f01f1770",
   "metadata": {},
   "outputs": [],
   "source": []
  },
  {
   "cell_type": "markdown",
   "id": "5d874e57",
   "metadata": {},
   "source": [
    "**Creating the CNN Model fro MNIST Digit Recognition**"
   ]
  },
  {
   "cell_type": "code",
   "execution_count": 15,
   "id": "e13e8038",
   "metadata": {},
   "outputs": [
    {
     "name": "stdout",
     "output_type": "stream",
     "text": [
      "Model: \"sequential_1\"\n",
      "_________________________________________________________________\n",
      " Layer (type)                Output Shape              Param #   \n",
      "=================================================================\n",
      " conv2d (Conv2D)             (None, 28, 28, 32)        320       \n",
      "                                                                 \n",
      " max_pooling2d (MaxPooling2D  (None, 14, 14, 32)       0         \n",
      " )                                                               \n",
      "                                                                 \n",
      " conv2d_1 (Conv2D)           (None, 14, 14, 64)        18496     \n",
      "                                                                 \n",
      " max_pooling2d_1 (MaxPooling  (None, 7, 7, 64)         0         \n",
      " 2D)                                                             \n",
      "                                                                 \n",
      " dropout (Dropout)           (None, 7, 7, 64)          0         \n",
      "                                                                 \n",
      " flatten (Flatten)           (None, 3136)              0         \n",
      "                                                                 \n",
      " dense (Dense)               (None, 128)               401536    \n",
      "                                                                 \n",
      " dropout_1 (Dropout)         (None, 128)               0         \n",
      "                                                                 \n",
      " dense_1 (Dense)             (None, 10)                1290      \n",
      "                                                                 \n",
      "=================================================================\n",
      "Total params: 421,642\n",
      "Trainable params: 421,642\n",
      "Non-trainable params: 0\n",
      "_________________________________________________________________\n",
      "None\n"
     ]
    }
   ],
   "source": [
    "model = keras.Sequential()\n",
    "\n",
    "model.add(Conv2D(32, kernel_size = (3,3), activation = 'relu', input_shape = (28,28,1), padding = 'SAME'))\n",
    "model.add(MaxPooling2D(pool_size = (2,2)))\n",
    "\n",
    "model.add(Conv2D(64, (3,3), activation = 'relu', padding = 'SAME'))\n",
    "model.add(MaxPooling2D(pool_size = (2,2)))\n",
    "model.add(Dropout(0.25))\n",
    "\n",
    "model.add(Flatten())\n",
    "model.add(Dense(128, activation = 'relu'))\n",
    "model.add(Dropout(0.5))\n",
    "\n",
    "model.add(Dense(10, activation = 'softmax'))\n",
    "\n",
    "\n",
    "model.compile(\n",
    "    loss = 'categorical_crossentropy',\n",
    "    optimizer = SGD(0.01),\n",
    "    metrics = ['accuracy']\n",
    ")\n",
    "\n",
    "print(model.summary())"
   ]
  },
  {
   "cell_type": "code",
   "execution_count": null,
   "id": "c181ddcd",
   "metadata": {},
   "outputs": [],
   "source": []
  },
  {
   "cell_type": "markdown",
   "id": "4b6eff46",
   "metadata": {},
   "source": [
    "**Training our Model for Digit Recognotion**"
   ]
  },
  {
   "cell_type": "code",
   "execution_count": 16,
   "id": "4cb82fa0",
   "metadata": {},
   "outputs": [
    {
     "name": "stdout",
     "output_type": "stream",
     "text": [
      "Epoch 1/10\n",
      "1875/1875 [==============================] - 113s 59ms/step - loss: 0.7590 - accuracy: 0.7568 - val_loss: 0.1753 - val_accuracy: 0.9481\n",
      "Epoch 2/10\n",
      "1875/1875 [==============================] - 125s 66ms/step - loss: 0.2485 - accuracy: 0.9249 - val_loss: 0.1080 - val_accuracy: 0.9662\n",
      "Epoch 3/10\n",
      "1875/1875 [==============================] - 103s 55ms/step - loss: 0.1824 - accuracy: 0.9460 - val_loss: 0.0844 - val_accuracy: 0.9728\n",
      "Epoch 4/10\n",
      "1875/1875 [==============================] - 96s 51ms/step - loss: 0.1505 - accuracy: 0.9550 - val_loss: 0.0705 - val_accuracy: 0.9764\n",
      "Epoch 5/10\n",
      "1875/1875 [==============================] - 80s 43ms/step - loss: 0.1298 - accuracy: 0.9616 - val_loss: 0.0624 - val_accuracy: 0.9787\n",
      "Epoch 6/10\n",
      "1875/1875 [==============================] - 87s 46ms/step - loss: 0.1165 - accuracy: 0.9653 - val_loss: 0.0571 - val_accuracy: 0.9813\n",
      "Epoch 7/10\n",
      "1875/1875 [==============================] - 95s 51ms/step - loss: 0.1078 - accuracy: 0.9678 - val_loss: 0.0499 - val_accuracy: 0.9837\n",
      "Epoch 8/10\n",
      "1875/1875 [==============================] - 87s 46ms/step - loss: 0.0974 - accuracy: 0.9706 - val_loss: 0.0469 - val_accuracy: 0.9842\n",
      "Epoch 9/10\n",
      "1875/1875 [==============================] - 80s 43ms/step - loss: 0.0929 - accuracy: 0.9732 - val_loss: 0.0440 - val_accuracy: 0.9852\n",
      "Epoch 10/10\n",
      "1875/1875 [==============================] - 73s 39ms/step - loss: 0.0871 - accuracy: 0.9736 - val_loss: 0.0397 - val_accuracy: 0.9864\n",
      "313/313 [==============================] - 3s 9ms/step - loss: 0.0397 - accuracy: 0.9864\n",
      "Test Data Loss: 3.97 %\n",
      "Test Data Accuracy: 98.64 %\n"
     ]
    }
   ],
   "source": [
    "history = model.fit(x_train, y_train, epochs = 10, verbose = 1, validation_data = (x_test, y_test))\n",
    "\n",
    "loss, accuracy = model.evaluate (x_test, y_test)\n",
    "print('Test Data Loss:', round(loss*100,2), '%')\n",
    "print('Test Data Accuracy:', round(accuracy*100,2), '%')"
   ]
  },
  {
   "cell_type": "code",
   "execution_count": null,
   "id": "d1f14372",
   "metadata": {},
   "outputs": [],
   "source": []
  },
  {
   "cell_type": "code",
   "execution_count": 17,
   "id": "251f96a6",
   "metadata": {},
   "outputs": [
    {
     "data": {
      "text/plain": [
       "<matplotlib.legend.Legend at 0x2362a04fe20>"
      ]
     },
     "execution_count": 17,
     "metadata": {},
     "output_type": "execute_result"
    },
    {
     "data": {
      "image/png": "[encoded data removed]",
      "text/plain": [
       "<Figure size 432x288 with 1 Axes>"
      ]
     },
     "metadata": {
      "needs_background": "light"
     },
     "output_type": "display_data"
    }
   ],
   "source": [
    "plt.plot(history.history['accuracy'], marker ='x')\n",
    "plt.plot(history.history['val_accuracy'], marker ='x')\n",
    "\n",
    "plt.title('Model Accuracy')\n",
    "plt.ylabel('accuracy')\n",
    "plt.xlabel('epochs')\n",
    "\n",
    "plt.legend(['Training Data', 'validation Data'], loc= 'lower right')"
   ]
  },
  {
   "cell_type": "code",
   "execution_count": null,
   "id": "90c52e45",
   "metadata": {},
   "outputs": [],
   "source": []
  },
  {
   "cell_type": "code",
   "execution_count": 18,
   "id": "ea76f1f3",
   "metadata": {},
   "outputs": [
    {
     "data": {
      "text/plain": [
       "<matplotlib.legend.Legend at 0x2362a0a8970>"
      ]
     },
     "execution_count": 18,
     "metadata": {},
     "output_type": "execute_result"
    },
    {
     "data": {
      "image/png": "[encoded data removed]",
      "text/plain": [
       "<Figure size 432x288 with 1 Axes>"
      ]
     },
     "metadata": {
      "needs_background": "light"
     },
     "output_type": "display_data"
    }
   ],
   "source": [
    "plt.plot(history.history['loss'], marker ='x')\n",
    "plt.plot(history.history['val_loss'], marker ='x')\n",
    "\n",
    "plt.title('Model Loss')\n",
    "plt.ylabel('Loss')\n",
    "plt.xlabel('epochs')\n",
    "\n",
    "plt.legend(['Training Data', 'validation Data'], loc= 'upper right')"
   ]
  },
  {
   "cell_type": "code",
   "execution_count": null,
   "id": "d7a8e4f1",
   "metadata": {},
   "outputs": [],
   "source": []
  },
  {
   "cell_type": "markdown",
   "id": "5c4e4cbd",
   "metadata": {},
   "source": [
    "**Saving the Prediction model**"
   ]
  },
  {
   "cell_type": "code",
   "execution_count": 19,
   "id": "c8ef7776",
   "metadata": {},
   "outputs": [
    {
     "name": "stderr",
     "output_type": "stream",
     "text": [
      "WARNING:absl:Found untraced functions such as _jit_compiled_convolution_op, _jit_compiled_convolution_op while saving (showing 2 of 2). These functions will not be directly callable after loading.\n"
     ]
    },
    {
     "name": "stdout",
     "output_type": "stream",
     "text": [
      "INFO:tensorflow:Assets written to: MNIST_10_epochs\\assets\n"
     ]
    },
    {
     "name": "stderr",
     "output_type": "stream",
     "text": [
      "INFO:tensorflow:Assets written to: MNIST_10_epochs\\assets\n"
     ]
    },
    {
     "name": "stdout",
     "output_type": "stream",
     "text": [
      "Model Saved!!\n"
     ]
    }
   ],
   "source": [
    "model.save('MNIST_10_epochs')\n",
    "print('Model Saved!!')"
   ]
  },
  {
   "cell_type": "code",
   "execution_count": null,
   "id": "093e8352",
   "metadata": {},
   "outputs": [],
   "source": []
  }
 ],
 "metadata": {
  "kernelspec": {
   "display_name": "Python 3 (ipykernel)",
   "language": "python",
   "name": "python3"
  },
  "language_info": {
   "codemirror_mode": {
    "name": "ipython",
    "version": 3
   },
   "file_extension": ".py",
   "mimetype": "text/x-python",
   "name": "python",
   "nbconvert_exporter": "python",
   "pygments_lexer": "ipython3",
   "version": "3.9.12"
  }
 },
 "nbformat": 4,
 "nbformat_minor": 5
}
